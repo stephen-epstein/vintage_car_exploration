{
 "cells": [
  {
   "cell_type": "code",
   "execution_count": 74,
   "id": "f4bae70c",
   "metadata": {},
   "outputs": [],
   "source": [
    "import requests\n",
    "from bs4 import BeautifulSoup\n",
    "\n",
    "\n",
    "urlstart = 'https://bringatrailer.com/wp-json/bringatrailer/1.0/data/keyword-filter?bat_keyword_pages=1897077&sort=td&page='\n",
    "urlend = '&results=items'\n",
    "url = []\n",
    "urls = []\n",
    "pgnum = 1\n",
    "while pgnum < 10:\n",
    "    url.append(urlstart + str(pgnum) + urlend)\n",
    "    pgnum += 1\n",
    "\n",
    "for j in range(0, len(url)):\n",
    "    r = requests.get(url[j])\n",
    "    soup = BeautifulSoup(r.content)\n",
    "    urltemp = str(soup)\n",
    "    i = 0\n",
    "    \n",
    "    while i < len(urltemp):\n",
    "        if urltemp[i:i+5] == '\"url\"':\n",
    "            tempurl = urltemp[i+7:i+200].partition('\"')[0]\n",
    "            if 'listing' in tempurl and 'parts' not in tempurl and 'hardtop' not in tempurl and 'tools' not in tempurl and 'memorabilia' not in tempurl and 'tool kit' not in tempurl:\n",
    "                if '\\\\' in tempurl:\n",
    "                    tempurl = tempurl.replace('\\\\', '')\n",
    "                    if tempurl not in urls:\n",
    "                        urls.append(tempurl.replace('\\\\', ''))\n",
    "        i += 1\n",
    "\n"
   ]
  },
  {
   "cell_type": "code",
   "execution_count": 75,
   "id": "f6c5306a",
   "metadata": {},
   "outputs": [
    {
     "name": "stdout",
     "output_type": "stream",
     "text": [
      "83\n"
     ]
    }
   ],
   "source": [
    "print(len(urls))"
   ]
  },
  {
   "cell_type": "code",
   "execution_count": null,
   "id": "d8042a1f",
   "metadata": {},
   "outputs": [],
   "source": []
  }
 ],
 "metadata": {
  "kernelspec": {
   "display_name": "Python 3 (ipykernel)",
   "language": "python",
   "name": "python3"
  },
  "language_info": {
   "codemirror_mode": {
    "name": "ipython",
    "version": 3
   },
   "file_extension": ".py",
   "mimetype": "text/x-python",
   "name": "python",
   "nbconvert_exporter": "python",
   "pygments_lexer": "ipython3",
   "version": "3.9.12"
  }
 },
 "nbformat": 4,
 "nbformat_minor": 5
}
