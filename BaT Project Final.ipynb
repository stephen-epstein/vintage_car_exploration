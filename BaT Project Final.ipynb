{
 "cells": [
  {
   "attachments": {},
   "cell_type": "markdown",
   "metadata": {},
   "source": [
    "# JAGUAR E-TYPE DATA PULL"
   ]
  },
  {
   "cell_type": "code",
   "execution_count": 1,
   "metadata": {},
   "outputs": [],
   "source": [
    "from bs4 import BeautifulSoup\n",
    "import requests\n",
    "import re\n",
    "import pandas as pd\n",
    "import joblib\n",
    "import os\n",
    "import sys\n",
    "import helpers"
   ]
  },
  {
   "cell_type": "markdown",
   "metadata": {},
   "source": [
    "Get List of Every Result and Save:"
   ]
  },
  {
   "cell_type": "code",
   "execution_count": 11,
   "metadata": {},
   "outputs": [
    {
     "data": {
      "text/plain": [
       "'done'"
      ]
     },
     "metadata": {},
     "output_type": "display_data"
    }
   ],
   "source": [
    "#### Get List of Every Result and Save ####\n",
    "#### DO NOT DELETE ####\n",
    "\n",
    "make = input('Enter Car Make: ')\n",
    "model = input('Enter Car Model: ')\n",
    "open(\"./data/HTML/\"+ make + model +\".html\", 'w').close()\n",
    "ids, urls, t = helpers.getlistings(make, model)\n",
    "data = ''\n",
    "listings = []\n",
    "for i in range(0,len(ids)):\n",
    "    urlstart = 'https://bringatrailer.com/wp-json/bringatrailer/1.0/data/keyword-filter?bat_keyword_pages=' + ids[i] + '&sort=td&page='\n",
    "    urlend = '&results=items'\n",
    "    pgend = 15\n",
    "    tempurl = helpers.geturls(urlstart, urlend, pgend, urls)\n",
    "    listings = tempurl\n",
    "    listings = listings[len(ids):len(listings)]\n",
    "\n",
    "    def get_data(url):\n",
    "\n",
    "        r = requests.get(url)\n",
    "\n",
    "        soup = BeautifulSoup(r.content, \"html.parser\")\n",
    "        return str(soup)\n",
    "\n",
    "\n",
    "    souplist = joblib.Parallel(n_jobs=-2)(joblib.delayed(get_data)(url) for url in listings)\n",
    "\n",
    "\n",
    "### WRITE DATA TO FILE ###\n",
    "    delimiter = \"%newline%\"\n",
    "    temp = delimiter.join(souplist)\n",
    "    data = temp + delimiter + data\n",
    "with open(\"./data/HTML/\"+ make + model +\".html\", \"a\") as file:\n",
    "    file.write(data)\n",
    "\n",
    "\n",
    "display('done')"
   ]
  },
  {
   "attachments": {},
   "cell_type": "markdown",
   "metadata": {},
   "source": [
    "Pull Information Off Each Listing Stored in URLS List:"
   ]
  },
  {
   "cell_type": "code",
   "execution_count": 28,
   "metadata": {},
   "outputs": [
    {
     "ename": "ValueError",
     "evalue": "substring not found",
     "output_type": "error",
     "traceback": [
      "\u001b[0;31m---------------------------------------------------------------------------\u001b[0m",
      "\u001b[0;31mValueError\u001b[0m                                Traceback (most recent call last)",
      "Cell \u001b[0;32mIn[28], line 109\u001b[0m\n\u001b[1;32m    107\u001b[0m         milestmu \u001b[39m=\u001b[39m \u001b[39mint\u001b[39m(milestmu) \u001b[39m*\u001b[39m \u001b[39m1000\u001b[39m\n\u001b[1;32m    108\u001b[0m \u001b[39melif\u001b[39;00m \u001b[39m\"\u001b[39m\u001b[39mK\u001b[39m\u001b[39m\"\u001b[39m \u001b[39min\u001b[39;00m \u001b[39mstr\u001b[39m(milestmu):\n\u001b[0;32m--> 109\u001b[0m     index \u001b[39m=\u001b[39m mileagedesc\u001b[39m.\u001b[39;49mindex(\u001b[39m\"\u001b[39;49m\u001b[39milometers\u001b[39;49m\u001b[39m\"\u001b[39;49m)\n\u001b[1;32m    110\u001b[0m     tempmile \u001b[39m=\u001b[39m mileagedesc[\u001b[39m0\u001b[39m:index]\u001b[39m.\u001b[39mpartition(\u001b[39m\"\u001b[39m\u001b[39m \u001b[39m\u001b[39m\"\u001b[39m)[\u001b[39m0\u001b[39m]\n\u001b[1;32m    111\u001b[0m     \u001b[39mif\u001b[39;00m \u001b[39m\"\u001b[39m\u001b[39mk\u001b[39m\u001b[39m\"\u001b[39m \u001b[39min\u001b[39;00m tempmile \u001b[39mor\u001b[39;00m \u001b[39m\"\u001b[39m\u001b[39mK\u001b[39m\u001b[39m\"\u001b[39m \u001b[39min\u001b[39;00m tempmile:\n",
      "\u001b[0;31mValueError\u001b[0m: substring not found"
     ]
    }
   ],
   "source": [
    "carlist = []\n",
    "Car = []\n",
    "### READ DATA ###\n",
    "\n",
    "with open(\"./data/HTML/\"+ make + model +\".html\", \"r\") as file:\n",
    "    test_data = file.read()\n",
    "\n",
    "out = test_data.split(delimiter)\n",
    "\n",
    "for i in range(0,len(listings)):\n",
    "    soup = BeautifulSoup(out[i], 'html.parser')\n",
    "    title = str(soup.find('title'))\n",
    "    if \"Parts\" not in title and \"Tool\" not in title and \"Memorabilia\" not in title and \"Tool Kit\" not in title and \"Removable\" not in title and \"Gearbox\" not in title and title != 'None' and 'listing' in listings[i]:\n",
    "        loc = str(soup.findAll('a'))\n",
    "        transmission = str(soup.findAll('li'))\n",
    "        contents = str(soup.findAll('p'))\n",
    "        essentials = soup.find('div', class_='essentials')\n",
    "\n",
    "        #Get Car Description\n",
    "        desc = helpers.getdesc(listings[i])\n",
    "\n",
    "\n",
    "        #Get Year\n",
    "        year = desc[0:4]\n",
    "        \n",
    "        #Check if Sold and get highest bid\n",
    "        sold, price = helpers.getsaleprice(title, loc)\n",
    "\n",
    "\n",
    "        #Get Transmission\n",
    "        trans = 'Manual'\n",
    "        if 'Automatic' in transmission:\n",
    "            trans = 'Automatic'\n",
    "\n",
    "        #Get Location\n",
    "\n",
    "        town, state = helpers.getlocation(loc)\n",
    "\n",
    "        \n",
    "        #Check for Project\n",
    "        if 'project' in title or 'Project' in title:\n",
    "            project = 1\n",
    "        else:\n",
    "            project = 0\n",
    "        \n",
    "        #Get Lot Number\n",
    "        try:\n",
    "            index = title.index('Lot #')\n",
    "            lotnumb = title[index+5:index+12].partition(')')[0]\n",
    "        except:\n",
    "            lotnumb = \"N/A\"\n",
    "            \n",
    "        #Get Month\n",
    "        month = helpers.getmonth(title)\n",
    "        \n",
    "        #Get Year\n",
    "        if '(' in title:\n",
    "            index = title.index('(')\n",
    "            yearsold = title[index-5:index-1]\n",
    "        else:\n",
    "            index = title.index('20')\n",
    "            yearsold = title[index:index+5]\n",
    "        \n",
    "        #Get Engine and Number Matching\n",
    "        numbmatch = 0\n",
    "        \n",
    "        if 'Numbers-Matching' in transmission:\n",
    "            numbmatch = 1\n",
    "\n",
    "        engine = helpers.getengine(transmission)\n",
    "        \n",
    "        #Get Various Indicators for rust, refurbishment, restoration, scratch, paint bubbles, metal repair, hardtop, or overdrive options\n",
    "        rust, refurbished, restored, scratch, paintbub, metalrepair, hardtop, overdrive, turbo, super = helpers.getindicators(contents)\n",
    "            \n",
    "            \n",
    "        #Get Mileage\n",
    "        miles, milestmu = helpers.getmileage(transmission)\n",
    "\n",
    "        #Get Descriptions of options and chassis #\n",
    "\n",
    "        temp = helpers.getenginedesc(essentials, engine)\n",
    "        chassis = temp[0]\n",
    "        specialdesc = temp[1]\n",
    "        mileagedesc = temp[2]\n",
    "        enginedesc = temp[3]\n",
    "        transdesc = temp[4]\n",
    "        paintdesc = temp[5]\n",
    "        interiordesc = temp[6]\n",
    "        carbdesc = temp[7]\n",
    "        wheeldesc = temp[8]\n",
    "        brakedesc = temp[9]\n",
    "        suspdesc = temp[10]\n",
    "        engine = temp[11]\n",
    "\n",
    "        #Check Trans with Description\n",
    "        if 'Manual' in transdesc:\n",
    "            trans = 'Manual'\n",
    "        elif 'Automatic' in transdesc:\n",
    "            trans = 'Automatic'\n",
    "\n",
    "        #Check Mileage with Description\n",
    "        try:\n",
    "            if \"K\" in str(miles):\n",
    "                index = mileagedesc.index(\"ilometers\")\n",
    "                tempmile = mileagedesc[0:index].partition(\" \")[0]\n",
    "                if \"k\" in tempmile or \"K\" in tempmile:\n",
    "                    milestmu = re.sub(r\"[^0-9]\", \"\", tempmile)\n",
    "                    milestmu = int(milestmu) * 1000\n",
    "            elif \"K\" in str(milestmu):\n",
    "                index = mileagedesc.index(\"ilometers\")\n",
    "                tempmile = mileagedesc[0:index].partition(\" \")[0]\n",
    "                if \"k\" in tempmile or \"K\" in tempmile:\n",
    "                    miles = re.sub(r\"[^0-9]\", \"\", tempmile)\n",
    "                    miles = int(miles) * 1000\n",
    "        except:\n",
    "            print('failed')\n",
    "        #Check for bespoke bodies\n",
    "        if 'Bertone' in title:\n",
    "            bertone = 1\n",
    "        else:\n",
    "            bertone = 0\n",
    "        if 'Zagato' in title:\n",
    "            zagato = 1\n",
    "        else:\n",
    "            zagato = 0\n",
    "\n",
    "        Car = [lotnumb, desc, trans, year, miles, milestmu, engine, turbo, super, numbmatch, hardtop, overdrive, scratch, paintbub, metalrepair, rust, refurbished, restored, project, sold, month, yearsold, price, town, state, zagato, bertone, chassis, specialdesc, mileagedesc, enginedesc, transdesc, paintdesc, interiordesc, carbdesc, wheeldesc, brakedesc, suspdesc, listings[i]]\n",
    "        carlist.append(Car)\n",
    "    else:\n",
    "        print('Discarded')\n",
    "    # index = transmission.index('aint')\n",
    "    # print(transmission[index-20:index+20])\n",
    "\n",
    "df = pd.DataFrame(carlist, columns=['Lot Number', 'Description', 'Transmission', 'Model Year', 'Mileage', 'Mileage (if TMU)','Engine', 'Turbocharged', 'Supercharged', 'Numbers Matching', 'Hardtop', 'Overdrive', 'Scratch', 'Paint Bubble', 'Metal Repair', 'Rust','Refurbished','Restored', 'Project', 'Sold', 'Month', 'Year', 'Price', 'City', 'State', 'Zagato', 'Bertone', 'Chassis', 'Special Description', 'Mileage Description', 'Engine Description', 'Transmission Description','Paint Description', 'Interior Description','Carburetor Description', 'Wheels Description', 'Brakes Description', 'Suspension Description', 'URL'])\n",
    "\n",
    "display(df)\n",
    "\n"
   ]
  },
  {
   "cell_type": "markdown",
   "metadata": {},
   "source": [
    "Save Data as Excel File:"
   ]
  },
  {
   "cell_type": "code",
   "execution_count": 10,
   "metadata": {},
   "outputs": [
    {
     "name": "stdout",
     "output_type": "stream",
     "text": [
      "Path already exists\n",
      "Saved!\n"
     ]
    }
   ],
   "source": [
    "path = 'data/' + make + '/'\n",
    "try:\n",
    "    os.mkdir(path)\n",
    "except:\n",
    "    print('Path already exists')\n",
    "df.to_excel(path + make + '_' + model + '.xlsx')\n",
    "print('Saved!')"
   ]
  },
  {
   "cell_type": "code",
   "execution_count": 29,
   "metadata": {},
   "outputs": [
    {
     "data": {
      "text/plain": [
       "'N/A'"
      ]
     },
     "execution_count": 29,
     "metadata": {},
     "output_type": "execute_result"
    }
   ],
   "source": [
    "mileagedesc"
   ]
  },
  {
   "cell_type": "code",
   "execution_count": 21,
   "metadata": {},
   "outputs": [
    {
     "data": {
      "text/plain": [
       "('123000K', 'N/A')"
      ]
     },
     "execution_count": 21,
     "metadata": {},
     "output_type": "execute_result"
    }
   ],
   "source": [
    "helpers.getmileage(transmission)"
   ]
  },
  {
   "cell_type": "code",
   "execution_count": null,
   "metadata": {},
   "outputs": [],
   "source": []
  }
 ],
 "metadata": {
  "kernelspec": {
   "display_name": "env_steph",
   "language": "python",
   "name": "python3"
  },
  "language_info": {
   "codemirror_mode": {
    "name": "ipython",
    "version": 3
   },
   "file_extension": ".py",
   "mimetype": "text/x-python",
   "name": "python",
   "nbconvert_exporter": "python",
   "pygments_lexer": "ipython3",
   "version": "3.9.15"
  },
  "orig_nbformat": 4,
  "vscode": {
   "interpreter": {
    "hash": "2cf3fa1aa09a0c6fa190c404f31caacef32adaf1e8c659fe741a42dc3ade0d5f"
   }
  }
 },
 "nbformat": 4,
 "nbformat_minor": 2
}
